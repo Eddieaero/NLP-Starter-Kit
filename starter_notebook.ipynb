{
 "cells": [
  {
   "cell_type": "markdown",
   "metadata": {},
   "source": [
    "# Import necessary libraries"
   ]
  },
  {
   "cell_type": "code",
   "execution_count": 23,
   "metadata": {},
   "outputs": [],
   "source": [
    "import numpy as np\n",
    "import pandas as pd\n",
    "from sklearn.model_selection import train_test_split\n",
    "from sklearn.metrics import accuracy_score, confusion_matrix\n",
    "# onehot encoding\n",
    "from sklearn.preprocessing import OneHotEncoder\n",
    "\n",
    "from keras.models import Sequential\n",
    "from keras.layers import Embedding, LSTM, Dense\n",
    "from keras.preprocessing.text import Tokenizer\n",
    "from keras.preprocessing.sequence import pad_sequences"
   ]
  },
  {
   "cell_type": "markdown",
   "metadata": {},
   "source": [
    "# Load your dataset\n",
    "\n",
    "The Data directory contain SwahiliNewsClassification dataset that will be used in this notebook.\n",
    "<br>Swahili News were collected from different websites that provide news in the Swahili language. The creator of the dataset was able to find some websites that provide news in Swahili only and others in different languages including Swahili.<br>\n",
    "Source: [Swahili News Classification](https://www.kaggle.com/datasets/waalbannyantudre/swahili-news-classification-dataset)"
   ]
  },
  {
   "cell_type": "code",
   "execution_count": 4,
   "metadata": {},
   "outputs": [],
   "source": [
    "data_path = 'data/SwahiliNewsClassificationDataset.csv'\n",
    "df = pd.read_csv(data_path)"
   ]
  },
  {
   "cell_type": "markdown",
   "metadata": {},
   "source": [
    "# Data preprocessing"
   ]
  },
  {
   "cell_type": "code",
   "execution_count": 5,
   "metadata": {},
   "outputs": [
    {
     "data": {
      "text/html": [
       "<div>\n",
       "<style scoped>\n",
       "    .dataframe tbody tr th:only-of-type {\n",
       "        vertical-align: middle;\n",
       "    }\n",
       "\n",
       "    .dataframe tbody tr th {\n",
       "        vertical-align: top;\n",
       "    }\n",
       "\n",
       "    .dataframe thead th {\n",
       "        text-align: right;\n",
       "    }\n",
       "</style>\n",
       "<table border=\"1\" class=\"dataframe\">\n",
       "  <thead>\n",
       "    <tr style=\"text-align: right;\">\n",
       "      <th></th>\n",
       "      <th>id</th>\n",
       "      <th>content</th>\n",
       "      <th>category</th>\n",
       "    </tr>\n",
       "  </thead>\n",
       "  <tbody>\n",
       "    <tr>\n",
       "      <th>0</th>\n",
       "      <td>SW4670</td>\n",
       "      <td>Bodi ya Utalii Tanzania (TTB) imesema, itafan...</td>\n",
       "      <td>uchumi</td>\n",
       "    </tr>\n",
       "    <tr>\n",
       "      <th>1</th>\n",
       "      <td>SW30826</td>\n",
       "      <td>PENDO FUNDISHA-MBEYA RAIS Dk. John Magufuri, ...</td>\n",
       "      <td>kitaifa</td>\n",
       "    </tr>\n",
       "  </tbody>\n",
       "</table>\n",
       "</div>"
      ],
      "text/plain": [
       "        id                                            content category\n",
       "0   SW4670   Bodi ya Utalii Tanzania (TTB) imesema, itafan...   uchumi\n",
       "1  SW30826   PENDO FUNDISHA-MBEYA RAIS Dk. John Magufuri, ...  kitaifa"
      ]
     },
     "execution_count": 5,
     "metadata": {},
     "output_type": "execute_result"
    }
   ],
   "source": [
    "df.head(2)"
   ]
  },
  {
   "cell_type": "markdown",
   "metadata": {},
   "source": [
    "## Normalize the data\n",
    "\n",
    "This step is to normalize the data by removing the punctuation, numbers, and special characters.<br>\n",
    "*Also to remove the stop words and lemmatize the words finally to convert the words to lower case.*"
   ]
  },
  {
   "cell_type": "code",
   "execution_count": 7,
   "metadata": {},
   "outputs": [],
   "source": [
    "import re\n",
    "def normalize_text(text):\n",
    "    # Remove punctuation, numbers, and special characters\n",
    "    text = re.sub(r'[^a-zA-Z\\s]', '', text)\n",
    "    # Convert to lowercase\n",
    "    text = text.lower()\n",
    "    return text"
   ]
  },
  {
   "cell_type": "code",
   "execution_count": 9,
   "metadata": {},
   "outputs": [],
   "source": [
    "# Normalize the text column\n",
    "df['Text'] = df['content'].apply(normalize_text)"
   ]
  },
  {
   "cell_type": "code",
   "execution_count": 22,
   "metadata": {},
   "outputs": [],
   "source": [
    "texts = df['Text'].values\n",
    "labels = df['category'].values"
   ]
  },
  {
   "cell_type": "code",
   "execution_count": 12,
   "metadata": {},
   "outputs": [
    {
     "data": {
      "text/plain": [
       "(' bodi ya utalii tanzania ttb imesema itafanya misafara ya kutangaza utalii kwenye miji minne nchini china kati ya juni  hadi juni  mwaka huumisafara hiyo itatembelea miji ya beijing juni  shanghai juni  nanjig juni  na changsha juni mwenyekiti wa bodi ttb jaji mstaafu thomas mihayo ameyasema hayo kwenye mkutano na waandishi wa habari jijini dar es salaamtunafanya jitihada kuhakikisha tunavuna watalii wengi zaidi kutoka china hasa tukizingatia umuhimu wa soko la sekta ya utalii nchini amesema jaji mihayonovemba  ttb ilifanya ziara kwenye miji ya beijing shanghai chengdu guangzhou na hong kong kutangaza vivutio vya utalii sanjari kuzitangaza safari za ndege za air tanzaniaziara hiyo inaelezwa kuzaa matunda ikiwa ni pamoja na watalii zaidi ya  kuja nchini mei mwaka huu kutembelea vivutio vya utalii',\n",
       " 'uchumi')"
      ]
     },
     "execution_count": 12,
     "metadata": {},
     "output_type": "execute_result"
    }
   ],
   "source": [
    "texts[0], labels[0]"
   ]
  },
  {
   "cell_type": "markdown",
   "metadata": {},
   "source": [
    "# Convert labels to numerical format\n",
    "\n",
    "This step is to convert the labels to numerical format to be able to use them in the model.\n",
    "\n",
    "final outcome will be a one-hot encoded vector for each label."
   ]
  },
  {
   "cell_type": "code",
   "execution_count": 24,
   "metadata": {},
   "outputs": [
    {
     "name": "stderr",
     "output_type": "stream",
     "text": [
      "c:\\Users\\Edgar\\AppData\\Local\\Programs\\Python\\Python311\\Lib\\site-packages\\sklearn\\preprocessing\\_encoders.py:972: FutureWarning: `sparse` was renamed to `sparse_output` in version 1.2 and will be removed in 1.4. `sparse_output` is ignored unless you leave `sparse` to its default value.\n",
      "  warnings.warn(\n"
     ]
    }
   ],
   "source": [
    "# one hot encode the labels\n",
    "encoder = OneHotEncoder(sparse=False)\n",
    "labels = encoder.fit_transform(labels.reshape(-1, 1))"
   ]
  },
  {
   "cell_type": "code",
   "execution_count": 27,
   "metadata": {},
   "outputs": [
    {
     "data": {
      "text/plain": [
       "[array(['afya', 'burudani', 'kimataifa', 'kitaifa', 'michezo', 'uchumi'],\n",
       "       dtype=object)]"
      ]
     },
     "execution_count": 27,
     "metadata": {},
     "output_type": "execute_result"
    }
   ],
   "source": [
    "encoder.categories_"
   ]
  },
  {
   "cell_type": "code",
   "execution_count": 28,
   "metadata": {},
   "outputs": [],
   "source": [
    "# # save the encoder\n",
    "# import joblib\n",
    "# joblib.dump(encoder, 'encoder.joblib')"
   ]
  },
  {
   "cell_type": "markdown",
   "metadata": {},
   "source": [
    "# Split the dataset into training and testing sets"
   ]
  },
  {
   "cell_type": "code",
   "execution_count": 29,
   "metadata": {},
   "outputs": [],
   "source": [
    "train_texts, test_texts, train_labels, test_labels = train_test_split(texts, labels, test_size=0.2, random_state=42)"
   ]
  },
  {
   "cell_type": "markdown",
   "metadata": {},
   "source": [
    "# Tokenize and pad sequences"
   ]
  },
  {
   "cell_type": "markdown",
   "metadata": {},
   "source": [
    "In this section you will be required to tokenize the words and pad the sequences. try different approaches and see which one gives you the best results.  <br>  <br>\n",
    "You can try the Tokenization strategies notebook for more guidance."
   ]
  },
  {
   "cell_type": "code",
   "execution_count": 30,
   "metadata": {},
   "outputs": [],
   "source": [
    "max_words = 1000  # Adjust based on your dataset size\n",
    "max_len = 200      # Adjust based on the average length of your news articles\n",
    "\n",
    "tokenizer = Tokenizer(num_words=max_words)\n",
    "tokenizer.fit_on_texts(train_texts)\n",
    "\n",
    "train_sequences = tokenizer.texts_to_sequences(train_texts)\n",
    "test_sequences = tokenizer.texts_to_sequences(test_texts)\n",
    "\n",
    "train_data = pad_sequences(train_sequences, maxlen=max_len)\n",
    "test_data = pad_sequences(test_sequences, maxlen=max_len)"
   ]
  },
  {
   "cell_type": "code",
   "execution_count": 36,
   "metadata": {},
   "outputs": [
    {
     "data": {
      "text/plain": [
       "(200,)"
      ]
     },
     "execution_count": 36,
     "metadata": {},
     "output_type": "execute_result"
    }
   ],
   "source": [
    "train_data[0].shape"
   ]
  },
  {
   "cell_type": "code",
   "execution_count": 38,
   "metadata": {},
   "outputs": [
    {
     "data": {
      "text/plain": [
       "((200,), (6,))"
      ]
     },
     "execution_count": 38,
     "metadata": {},
     "output_type": "execute_result"
    }
   ],
   "source": [
    "train_data[0].shape, train_labels[0].shape"
   ]
  },
  {
   "cell_type": "markdown",
   "metadata": {},
   "source": [
    "# Build the model"
   ]
  },
  {
   "cell_type": "code",
   "execution_count": 40,
   "metadata": {},
   "outputs": [],
   "source": [
    "del model"
   ]
  },
  {
   "cell_type": "code",
   "execution_count": 45,
   "metadata": {},
   "outputs": [],
   "source": [
    "embedding_dim = 50  # Adjust based on your preferences\n",
    "\n",
    "model = Sequential()\n",
    "model.add(Embedding(input_dim=max_words, output_dim=embedding_dim, input_length=max_len))\n",
    "model.add(LSTM(100))\n",
    "model.add(Dense(6, activation='softmax'))\n",
    "\n",
    "\n",
    "# Compile the model\n",
    "model.compile(optimizer='adam', loss='categorical_crossentropy', metrics=['accuracy'])"
   ]
  },
  {
   "cell_type": "code",
   "execution_count": 46,
   "metadata": {},
   "outputs": [
    {
     "name": "stdout",
     "output_type": "stream",
     "text": [
      "Epoch 1/10\n",
      "466/466 [==============================] - 82s 166ms/step - loss: 0.9740 - accuracy: 0.6743 - val_loss: 0.7077 - val_accuracy: 0.7744\n",
      "Epoch 2/10\n",
      "466/466 [==============================] - 79s 169ms/step - loss: 0.6562 - accuracy: 0.7969 - val_loss: 0.5706 - val_accuracy: 0.8405\n",
      "Epoch 3/10\n",
      "466/466 [==============================] - 82s 175ms/step - loss: 0.5938 - accuracy: 0.8232 - val_loss: 0.5411 - val_accuracy: 0.8319\n",
      "Epoch 4/10\n",
      "466/466 [==============================] - 82s 175ms/step - loss: 0.5702 - accuracy: 0.8325 - val_loss: 0.5651 - val_accuracy: 0.8324\n",
      "Epoch 5/10\n",
      "466/466 [==============================] - 89s 191ms/step - loss: 0.5910 - accuracy: 0.8224 - val_loss: 0.5712 - val_accuracy: 0.8219\n",
      "Epoch 6/10\n",
      "466/466 [==============================] - 95s 204ms/step - loss: 0.5096 - accuracy: 0.8414 - val_loss: 0.5486 - val_accuracy: 0.8367\n",
      "Epoch 7/10\n",
      "466/466 [==============================] - 96s 205ms/step - loss: 0.4979 - accuracy: 0.8470 - val_loss: 0.5605 - val_accuracy: 0.8203\n",
      "Epoch 8/10\n",
      "466/466 [==============================] - 94s 201ms/step - loss: 0.5201 - accuracy: 0.8374 - val_loss: 0.5455 - val_accuracy: 0.8329\n",
      "Epoch 9/10\n",
      "466/466 [==============================] - 96s 206ms/step - loss: 0.4977 - accuracy: 0.8448 - val_loss: 0.8899 - val_accuracy: 0.7231\n",
      "Epoch 10/10\n",
      "466/466 [==============================] - 92s 198ms/step - loss: 0.4448 - accuracy: 0.8609 - val_loss: 0.5156 - val_accuracy: 0.8367\n"
     ]
    },
    {
     "data": {
      "image/png": "[encoded data removed]",
      "text/plain": [
       "<Figure size 640x480 with 1 Axes>"
      ]
     },
     "metadata": {},
     "output_type": "display_data"
    },
    {
     "data": {
      "image/png": "[encoded data removed]",
      "text/plain": [
       "<Figure size 640x480 with 1 Axes>"
      ]
     },
     "metadata": {},
     "output_type": "display_data"
    }
   ],
   "source": [
    "batch_size = 32\n",
    "epochs = 10\n",
    "\n",
    "history = model.fit(train_data, train_labels, validation_split=0.2, batch_size=batch_size, epochs=epochs)\n",
    "\n",
    "# plot loss and accuracy\n",
    "import matplotlib.pyplot as plt\n",
    "plt.plot(history.history['loss'], label='train')\n",
    "plt.plot(history.history['val_loss'], label='test')\n",
    "plt.legend()\n",
    "plt.show()\n",
    "\n",
    "plt.plot(history.history['accuracy'], label='train')\n",
    "plt.plot(history.history['val_accuracy'], label='test')\n",
    "plt.legend()\n",
    "plt.show()"
   ]
  },
  {
   "cell_type": "markdown",
   "metadata": {},
   "source": [
    "## inference to the model"
   ]
  },
  {
   "cell_type": "code",
   "execution_count": 79,
   "metadata": {},
   "outputs": [],
   "source": [
    "# pre-process for inference\n",
    "def pre_process(tokenizer, max_len, input_text):\n",
    "    input_sequence = tokenizer.texts_to_sequences([input_text])\n",
    "    input_data = pad_sequences(input_sequence, maxlen=max_len)\n",
    "    return input_data"
   ]
  },
  {
   "cell_type": "code",
   "execution_count": 94,
   "metadata": {},
   "outputs": [],
   "source": [
    "def classify_news(model, tokenizer, encoder, max_len, input_text):\n",
    "    input_data = pre_process(tokenizer, max_len, input_text)\n",
    "    pred = model.predict(input_data)\n",
    "    res = encoder.inverse_transform(pred)[0][0]\n",
    "    return res"
   ]
  },
  {
   "cell_type": "code",
   "execution_count": 125,
   "metadata": {},
   "outputs": [
    {
     "name": "stdout",
     "output_type": "stream",
     "text": [
      "1/1 [==============================] - 0s 49ms/step\n",
      "News headline: andrew msechu  dar es salaam  tume ya haki za binadamu na utawala bora thbub\n",
      "imeelezwa kusikitishwa na kauli zinazotolewa na baadhi ya\n",
      "viongozi na makundi ya kisiasa na kijamii zinazoashiria\n",
      "uvunjifu wa haki za binadamu na ukiukwaji wa misingi ya utawala bora nchini  katika taarifa yake kwa vyombo vya habari jana\n",
      "mwenyekiti wa tume hiyo jaji mstaafu mathew mwalimu alisema kauli hizo\n",
      "zimekuwa zikichochea kwa kiasi kikubwa wananchi\n",
      "kujichukulia sheria mikononi mwao kutokana na kutoridhishwa\n",
      "na vitendo vya baadhi ya wanasiasa taarifa ya tume hiyo imekuja ikiwa ni siku chache tangu\n",
      "mbunge wa kuteuliwa abdallah bulembo kutoa kauli ambayo baadhi waliitafsiri\n",
      "kuwa inalenga kumtisha mbunge wa kigoma ujiji zitto kabwe katika kauli yake bulembo alisema kuna mtu mmoja\n",
      "aliyechukua maswala yetu ya ndani na kuyapeleka nje ya taifa hafai kuruhusiwa\n",
      "kurudi na anafaa kuuawa pale alipo uhaini kile ambacho zitto kabwe amekuwa akilifanyia\n",
      "taifa hili ni uhaini bulembo alitoa kauli hiyo ikiwa ni baada ya spika wa\n",
      "bunge job ndugai kuzungumzia kitendo cha zitto kuandika barua kwenda benki ya\n",
      "dunia kuitaka kusitisha mkopo iliyokuwa itoe kwa serikali kusaidia elimu zitto alidai kutolewa kwa fedha hizo ni kukubali watoto\n",
      "wa kike kutengwa kutokana na kauli ya serikali kuwa watakaopata mimba\n",
      "hawataendelea na masomo kwa mfumo wa kawaida katika maelezo yake ya januari  spika ndugai alisema\n",
      "anamshangaa zitto kwa barua hiyo na kutaka mwanasheria mkuu wa serikali\n",
      "kufuatilia suala hilo kuona kama lina jinai ndani yake rais wa marekani donald trump ameshtakiwa kwa sababu\n",
      "alikuwa anakula njama na mataifa ya kigeni ili kuingilia maswala ya ndani ya\n",
      "marekani tuna mbunge ambaye amekuwa akifanya vitendo kama vya trump kuna\n",
      "swala la uhaini hapo alisema taarifa ya tume kutokana na kile\n",
      "kinachoonekana ni kukemea kauli kama hizo tamko la tume hiyo linasema hivi karibuni kumesikika katika mitandao ya kijamii kauli mbalimbali zilizotolewa na baadhi ya watu wakitoa kauli za\n",
      "vitisho dhidi ya wengine kutokana na kutofautiana\n",
      "kimtazamo  aidha makundi mengine yamejitokeza kupinga hatua hiyo na kuahidi kuchukua hatua ambazo hazitoi sura nzuri katika ustawi wa misingi ya haki za binadamu na\n",
      "utawala bora nchini kutokana na hali hiyo tume inapenda kusisitiza juu ya\n",
      "umuhimu wa kuvumiliana na kutumia taratibu za kisheria katika kutafuta ufumbuzi\n",
      "wa masuala mbalimbali yanayolalamikiwa  kauli hizi zisipodhibitiwa zinaweza kupelekea pia\n",
      "uvunjifu wa amani na utulivu tulio nao hapa nchini jaji mwalimu alisema tume inaviomba vyama vya siasa kusimamia kuwadhibiti wafuasi\n",
      "wao kutotumia lugha ambazo zinaweza kusababisha uvunjifu wa haki za binadamu na\n",
      "ukiukwaji wa misingi ya utawala bora sisi sote tusimame imara katika kupinga kauli hizo ili\n",
      "kudumisha amani na utulivu katika nchi yetu tunu ambayo tumekuwa nayo kwa muda\n",
      "mrefu alisema jaji mwalimu tume hiyo imetoa onyo hilo kufuatia matukio ya hivi\n",
      "karibuni ya wanasiasa kutamka hadharani wakitaka wale wenye mawazo mbadala\n",
      "wauawe waliotoa matamko akizungumza baada ya mkutano wa chama mwishoni mwa juma\n",
      "mwenyekiti wa umoja wa vijana wa ccm uvccm mkoa wa iringa kenani kihongosi\n",
      "alisema watu walioichafulia jina tanzania walifaa kuuawa tumewachoka watu wachache wasio na maana ambao\n",
      "wanalichafulia jina taifa letu lakini pia tumechoka na wale wanaotumiwa na\n",
      "wakoloni natoa wito kwa vijana kuandika kuhusu mambo mazuri\n",
      "ambayo serikali inafanya lakini pia kutochoka kukosoa wale wanaokandamiza\n",
      "taifa letu wao ndio maadui wetu wa kwanza na wanastahili kuuawa alisema kihongosi awali kabla ya kauli hiyo ya kihongosi mwenyekiti wa\n",
      "uvccm taifa heri james alikaririwa akiwalaumu vijana wa ccm kuwaacha wanasiasa\n",
      "wa upinzani zitto na mwenyekiti wa chadema freeman mbowe wakitembea mitaani\n",
      "bila kubughudhiwa kwa madai kuwa wanataka kulipasua taifa kwa vitendo vyao vya\n",
      "kuhujumu serikali na taifa hata hivyo februari  james alikaririwa akitoa\n",
      "ufafanuzi wa kauli hiyo kwa kusema kuwa viongozi wengi wa upinzani wamekuwa\n",
      "wakiendekezwa kufanya upotoshaji bila kuchukuliwa hatua na vyombo husika alisema alichokimaanisha katika hotuba yake ni\n",
      "kushangazwa na utamaduni wa wapinzani kuichafua tanzania bila kuchukuliwa hatua\n",
      "na vyombo vya dola kuna kipindi walizusha cag profesa mussa assad\n",
      "amestaafu katekwa walichukuliwa hatua ule uvumi wa rais wetu walichukuliwa\n",
      "hatua  sasa sisi tutaingia kwenye mapambano kwa hoja wakienda\n",
      "kutuchafua nje tutawafuata huko huko alisema \n",
      "james huku akikiri kauli za viongozi zinaweza kuhatarisha amani  aliongeza amani\n",
      "ya nchi hii imeshikiliwa na sisi viongozi tukichochea uongo tutaharibu nchi\n",
      "hii  alichokizungumza mwenyekiti wa iringa siyo msimamo wa\n",
      "uvccm na tunakemea kauli za aina hiyo sisi msimamo wetu ni kuhimiza utekelezaji\n",
      "wa misingi ya kisheria\n",
      "Actual category: kitaifa\n",
      "Predicted category: kitaifa\n"
     ]
    }
   ],
   "source": [
    "# pick a random news headline from df\n",
    "news_ = df.sample(1)\n",
    "\n",
    "news_headline = news_['Text'].values[0]\n",
    "news_category = news_['category'].values[0]\n",
    "\n",
    "classified_label = classify_news(model, tokenizer, encoder, max_len, news_headline)\n",
    "\n",
    "print(f'News headline: {news_headline}')\n",
    "print(f'Actual category: {news_category}')\n",
    "print(f'Predicted category: {classified_label}')"
   ]
  }
 ],
 "metadata": {
  "kernelspec": {
   "display_name": "Python 3",
   "language": "python",
   "name": "python3"
  },
  "language_info": {
   "codemirror_mode": {
    "name": "ipython",
    "version": 3
   },
   "file_extension": ".py",
   "mimetype": "text/x-python",
   "name": "python",
   "nbconvert_exporter": "python",
   "pygments_lexer": "ipython3",
   "version": "3.11.4"
  }
 },
 "nbformat": 4,
 "nbformat_minor": 2
}
